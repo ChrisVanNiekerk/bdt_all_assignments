{
 "cells": [
  {
   "cell_type": "code",
   "execution_count": 1,
   "metadata": {},
   "outputs": [],
   "source": [
    "import argparse\n"
   ]
  },
  {
   "cell_type": "code",
   "execution_count": 14,
   "metadata": {},
   "outputs": [
    {
     "ename": "ModuleNotFoundError",
     "evalue": "No module named 'google.cloud'",
     "output_type": "error",
     "traceback": [
      "\u001b[1;31m---------------------------------------------------------------------------\u001b[0m",
      "\u001b[1;31mModuleNotFoundError\u001b[0m                       Traceback (most recent call last)",
      "\u001b[1;32m<ipython-input-14-5ae969a9c485>\u001b[0m in \u001b[0;36m<module>\u001b[1;34m\u001b[0m\n\u001b[1;32m----> 1\u001b[1;33m \u001b[1;32mfrom\u001b[0m \u001b[0mgoogle\u001b[0m\u001b[1;33m.\u001b[0m\u001b[0mcloud\u001b[0m \u001b[1;32mimport\u001b[0m \u001b[0mpubsub_v1\u001b[0m\u001b[1;33m\u001b[0m\u001b[1;33m\u001b[0m\u001b[0m\n\u001b[0m",
      "\u001b[1;31mModuleNotFoundError\u001b[0m: No module named 'google.cloud'"
     ]
    }
   ],
   "source": [
    "from google.cloud import pubsub_v1"
   ]
  },
  {
   "cell_type": "code",
   "execution_count": 13,
   "metadata": {},
   "outputs": [
    {
     "name": "stdout",
     "output_type": "stream",
     "text": [
      "Requirement already satisfied: google-cloud in c:\\python37-32\\lib\\site-packages (0.34.0)\n"
     ]
    },
    {
     "name": "stderr",
     "output_type": "stream",
     "text": [
      "You are using pip version 19.0.3, however version 20.2.3 is available.\n",
      "You should consider upgrading via the 'python -m pip install --upgrade pip' command.\n"
     ]
    }
   ],
   "source": [
    "!pip3 install google-cloud"
   ]
  },
  {
   "cell_type": "code",
   "execution_count": 12,
   "metadata": {},
   "outputs": [
    {
     "ename": "ModuleNotFoundError",
     "evalue": "No module named 'google.cloud'",
     "output_type": "error",
     "traceback": [
      "\u001b[1;31m---------------------------------------------------------------------------\u001b[0m",
      "\u001b[1;31mModuleNotFoundError\u001b[0m                       Traceback (most recent call last)",
      "\u001b[1;32m<ipython-input-12-60680cfa05ad>\u001b[0m in \u001b[0;36m<module>\u001b[1;34m\u001b[0m\n\u001b[1;32m----> 1\u001b[1;33m \u001b[1;32mimport\u001b[0m \u001b[0mgoogle\u001b[0m\u001b[1;33m.\u001b[0m\u001b[0mcloud\u001b[0m\u001b[1;33m\u001b[0m\u001b[1;33m\u001b[0m\u001b[0m\n\u001b[0m",
      "\u001b[1;31mModuleNotFoundError\u001b[0m: No module named 'google.cloud'"
     ]
    }
   ],
   "source": [
    "import google.cloud"
   ]
  },
  {
   "cell_type": "code",
   "execution_count": 11,
   "metadata": {},
   "outputs": [
    {
     "name": "stdout",
     "output_type": "stream",
     "text": [
      "\n",
      "Please wait a moment while I gather a list of all available modules...\n",
      "\n"
     ]
    },
    {
     "name": "stderr",
     "output_type": "stream",
     "text": [
      "C:\\Users\\MSI\\Anaconda3\\lib\\site-packages\\IPython\\kernel\\__init__.py:13: ShimWarning: The `IPython.kernel` package has been deprecated since IPython 4.0.You should import from ipykernel or jupyter_client instead.\n",
      "  \"You should import from ipykernel or jupyter_client instead.\", ShimWarning)\n",
      "C:\\Users\\MSI\\Anaconda3\\lib\\site-packages\\IPython\\html.py:14: ShimWarning:\n",
      "\n",
      "The `IPython.html` package has been deprecated since IPython 4.0. You should import from `notebook` instead. `IPython.html.widgets` has moved to `ipywidgets`.\n",
      "\n",
      "C:\\Users\\MSI\\Anaconda3\\lib\\site-packages\\glue_vispy_viewers\\extern\\vispy\\app\\backends\\ipython\\_widget.py:7: UserWarning:\n",
      "\n",
      "IPython.utils.traitlets has moved to a top-level traitlets package.\n",
      "\n",
      "C:\\Users\\MSI\\Anaconda3\\lib\\site-packages\\nltk\\twitter\\__init__.py:22: UserWarning:\n",
      "\n",
      "The twython library has not been installed. Some functionality from the twitter package will not be available.\n",
      "\n"
     ]
    },
    {
     "name": "stdout",
     "output_type": "stream",
     "text": [
      "pygame 1.9.6\n",
      "Hello from the pygame community. https://www.pygame.org/contribute.html\n"
     ]
    },
    {
     "name": "stderr",
     "output_type": "stream",
     "text": [
      "C:\\Users\\MSI\\Anaconda3\\lib\\site-packages\\pyqtgraph\\canvas\\CanvasTemplate_pyqt.py:10: RuntimeWarning:\n",
      "\n",
      "Loaded module AnyQt._backport as a substitute for PyQt4\n",
      "\n",
      "C:\\Users\\MSI\\Anaconda3\\lib\\site-packages\\skimage\\novice\\__init__.py:103: UserWarning:\n",
      "\n",
      "The `skimage.novice` module was deprecated in version 0.14. It will be removed in 0.16.\n",
      "\n",
      "C:\\Users\\MSI\\Anaconda3\\lib\\site-packages\\qtawesome\\iconic_font.py:301: UserWarning:\n",
      "\n",
      "You need to have a running QApplication to use QtAwesome!\n",
      "\n",
      "C:\\Users\\MSI\\Anaconda3\\lib\\pkgutil.py:107: VisibleDeprecationWarning:\n",
      "\n",
      "zmq.eventloop.minitornado is deprecated in pyzmq 14.0 and will be removed.\n",
      "    Install tornado itself to use zmq with the tornado IOLoop.\n",
      "    \n",
      "\n",
      "C:\\Users\\MSI\\Anaconda3\\lib\\site-packages\\~-learn\\externals\\joblib\\__init__.py:15: FutureWarning:\n",
      "\n",
      "sklearn.externals.joblib is deprecated in 0.21 and will be removed in 0.23. Please import this functionality directly from joblib, which can be installed with: pip install joblib. If this warning is raised when loading pickled models, you may need to re-serialize those models with scikit-learn 0.21+.\n",
      "\n"
     ]
    },
    {
     "name": "stdout",
     "output_type": "stream",
     "text": [
      "AnyQt               cgi                 math                smogn\n",
      "Crypto              cgitb               matplotlib          smtpd\n",
      "Cython              chardet             mccabe              smtplib\n",
      "IPython             chunk               menuinst            sndhdr\n",
      "OpenGL              click               mimetypes           snowballstemmer\n",
      "OpenSSL             cloudpickle         missingno           socket\n",
      "Orange              clyent              mistune             socketserver\n",
      "PIL                 cmath               mkl                 socks\n",
      "PyQt5               cmd                 mkl_fft             sockshandler\n",
      "__future__          code                mkl_random          sortedcollections\n",
      "_abc                codecs              mmap                sortedcontainers\n",
      "_ast                codeop              mmapfile            soupsieve\n",
      "_asyncio            collections         mmsystem            sphinx\n",
      "_bisect             colorama            mock                sphinxcontrib\n",
      "_blake2             colorsys            modulefinder        spyder\n",
      "_bootlocale         commctrl            more_itertools      spyder_breakpoints\n",
      "_bz2                commonmark          mpl_scatter_density spyder_io_dcm\n",
      "_cffi_backend       community           mpmath              spyder_io_hdf5\n",
      "_codecs             compileall          msgpack             spyder_kernels\n",
      "_codecs_cn          comtypes            msilib              spyder_profiler\n",
      "_codecs_hk          concurrent          msvcrt              spyder_pylint\n",
      "_codecs_iso2022     conda               multipledispatch    sqlalchemy\n",
      "_codecs_jp          conda_build         multiprocessing     sqlite3\n",
      "_codecs_kr          conda_env           navigator_updater   sre_compile\n",
      "_codecs_tw          conda_package_handling nbconvert           sre_constants\n",
      "_collections        conda_verify        nbformat            sre_parse\n",
      "_collections_abc    configparser        ndf                 ssl\n",
      "_compat_pickle      confuse             netbios             sspi\n",
      "_compression        contextlib          netrc               sspicon\n",
      "_contextvars        contextlib2         networkx            stat\n",
      "_csv                contextvars         nltk                statistics\n",
      "_ctypes             copy                nntplib             statsmodels\n",
      "_ctypes_test        copyreg             nose                storemagic\n",
      "_datetime           countryinfo         notebook            string\n",
      "_decimal            crypt               nt                  stringprep\n",
      "_dummy_thread       cryptography        ntpath              struct\n",
      "_elementtree        csv                 ntsecuritycon       subprocess\n",
      "_functools          ctypes              nturl2path          sunau\n",
      "_hashlib            curl                numba               symbol\n",
      "_heapq              curses              numbers             sympy\n",
      "_imp                cwp                 numexpr             sympyprinting\n",
      "_io                 cycler              numpy               symtable\n",
      "_json               cython              numpydoc            sys\n",
      "_locale             cythonmagic         odbc                sysconfig\n",
      "_lsprof             cytoolz             olefile             tables\n",
      "_lzma               dash                opcode              tabnanny\n",
      "_markupbase         dash_core_components openTSNE            tangled_up_in_unicode\n",
      "_md5                dash_html_components openpyxl            tarfile\n",
      "_msi                dash_renderer       operator            tblib\n",
      "_multibytecodec     dash_table          optparse            telnetlib\n",
      "_multiprocessing    dask                orangecanvas        tempfile\n",
      "_nsis               dataclasses         orangewidget        tensorboard\n",
      "_opcode             datetime            os                  tensorflow\n",
      "_operator           dateutil            packaging           tensorflow_estimator\n",
      "_osx_support        dbi                 pandas              termcolor\n",
      "_overlapped         dbm                 pandas_datareader   terminado\n",
      "_pickle             dde                 pandas_profiling    test\n",
      "_plotly_future_     decimal             pandocfilters       test_data\n",
      "_plotly_utils       decorator           parser              test_pycosat\n",
      "_py_abc             defusedxml          parso               testpath\n",
      "_pydecimal          difflib             partd               tests\n",
      "_pyio               dill                past                text_unidecode\n",
      "_pylief             dis                 pasta               textwrap\n",
      "_pyrsistent_version distributed         path                this\n",
      "_pytest             distutils           pathlib             threading\n",
      "_queue              doctest             pathlib2            threadpoolctl\n",
      "_random             docutils            patsy               time\n",
      "_sha1               dry_attr            pdb                 timeit\n",
      "_sha256             dummy_threading     pep8                timer\n",
      "_sha3               easy_install        perfmon             tkinter\n",
      "_sha512             email               phik                tlz\n",
      "_signal             encodings           pickle              token\n",
      "_sitebuiltins       ensurepip           pickleshare         tokenize\n",
      "_socket             entrypoints         pickletools         toolz\n",
      "_sqlite3            enum                pip                 tornado\n",
      "_sre                errno               pipes               tqdm\n",
      "_ssl                et_xmlfile          pkg_resources       trace\n",
      "_stat               fast_histogram      pkginfo             traceback\n",
      "_string             fastcache           pkgutil             tracemalloc\n",
      "_strptime           faulthandler        platform            traitlets\n",
      "_struct             filecmp             plistlib            tty\n",
      "_symtable           fileinput           plotly              turtle\n",
      "_system_path        filelock            plotlywidget        turtledemo\n",
      "_testbuffer         findspark           pluggy              tutorial_beam\n",
      "_testcapi           flask               ply                 tutorial_beam_2\n",
      "_testconsole        flask_compress      poplib              tutorial_beam_testing shit\n",
      "_testimportmultiple fnmatch             posixpath           typed_ast\n",
      "_testmultiphase     formatter           postblock           types\n",
      "_thread             fractions           pprint              typing\n",
      "_threading_local    fsspec              profile             unicodecsv\n",
      "_tkinter            ftplib              prometheus_client   unicodedata\n",
      "_tracemalloc        functools           prompt_toolkit      unittest\n",
      "_warnings           future              pstats              urllib\n",
      "_weakref            gast                psutil              urllib3\n",
      "_weakrefset         gc                  pty                 uu\n",
      "_win32sysloader     genericpath         pvectorc            uuid\n",
      "_winapi             getopt              py                  venv\n",
      "_winxptheme         getpass             py4j                visions\n",
      "_yaml               gettext             py_compile          warnings\n",
      "abc                 gevent              pyaml               wave\n",
      "absl                glob                pyclbr              wcwidth\n",
      "adodbapi            glob2               pycodestyle         weakref\n",
      "afxres              glue                pycosat             webbrowser\n",
      "aifc                glue_vispy_viewers  pycparser           webencodings\n",
      "alabaster           greenlet            pycurl              werkzeug\n",
      "anaconda_navigator  grpc                pydoc               wheel\n",
      "anaconda_project    gzip                pydoc_data          widgetsnbextension\n",
      "antigravity         h2                  pyexpat             win2kras\n",
      "archspec            h5py                pyflakes            win32api\n",
      "argparse            hashlib             pygame              win32clipboard\n",
      "array               heapdict            pygments            win32com\n",
      "asn1crypto          heapq               pygrowthmodels      win32con\n",
      "ast                 helpdev             pylab               win32console\n",
      "astor               hmac                pylint              win32cred\n",
      "astroid             hpack               pynndescent         win32crypt\n",
      "astropy             html                pyodbc              win32cryptcon\n",
      "asynchat            html2text           pyparsing           win32event\n",
      "asyncio             html5lib            pyqlearning         win32evtlog\n",
      "asyncore            htmlmin             pyqtgraph           win32evtlogutil\n",
      "atexit              http                pyreadline          win32file\n",
      "atomicwrites        hyper               pyrsistent          win32gui\n",
      "attr                hyperframe          pyspark             win32gui_struct\n",
      "audioop             hypertemp           pytest              win32help\n",
      "autoreload          idlelib             pytest_arraydiff    win32inet\n",
      "babel               idna                pytest_doctestplus  win32inetcon\n",
      "backcall            imageio             pytest_openfiles    win32job\n",
      "backports           imagesize           pytest_pylint       win32lz\n",
      "base64              imaplib             pytest_remotedata   win32net\n",
      "bdb                 imblearn            pythoncom           win32netcon\n",
      "binascii            imghdr              pytz                win32pdh\n",
      "binhex              imp                 pywin               win32pdhquery\n",
      "binstar_client      importlib           pywin32_testutil    win32pdhutil\n",
      "bisect              importlib_metadata  pywintypes          win32pipe\n",
      "bitarray            inspect             pywt                win32print\n",
      "bkcharts            io                  pyximport           win32process\n",
      "bleach              ipaddress           qdarkstyle          win32profile\n",
      "bokeh               ipykernel           qtawesome           win32ras\n",
      "boto                ipykernel_launcher  qtconsole           win32rcparser\n",
      "bottleneck          ipympl              qtpy                win32security\n",
      "brain_argparse      ipython_genutils    queue               win32service\n",
      "brain_attrs         ipywidgets          quopri              win32serviceutil\n",
      "brain_builtin_inference isapi               random              win32timezone\n",
      "brain_collections   isort               rasutil             win32trace\n",
      "brain_crypt         isympy              re                  win32traceutil\n",
      "brain_curses        itertools           readline            win32transaction\n",
      "brain_dataclasses   itsdangerous        regcheck            win32ts\n",
      "brain_dateutil      jdcal               regutil             win32ui\n",
      "brain_fstrings      jedi                reprlib             win32uiole\n",
      "brain_functools     jinja2              requests            win32verstamp\n",
      "brain_gi            joblib              retrying            win32wnet\n",
      "brain_hashlib       json                rfc3986             win_inet_pton\n",
      "brain_http          json5               rlcompleter         win_unicode_console\n",
      "brain_io            jsonschema          rmagic              wincertstore\n",
      "brain_mechanize     jupyter             rope                winerror\n",
      "brain_multiprocessing jupyter_client      ruamel_yaml         winioctlcon\n",
      "brain_namedtuple_enum jupyter_console     run                 winnt\n",
      "brain_nose          jupyter_core        runpy               winperf\n",
      "brain_numpy_core_fromnumeric jupyterlab          sched               winpty\n",
      "brain_numpy_core_function_base jupyterlab_server   scipy               winreg\n",
      "brain_numpy_core_multiarray kaggle              scripts             winsound\n",
      "brain_numpy_core_numeric keras_applications  seaborn             winxpgui\n",
      "brain_numpy_core_numerictypes keras_preprocessing secrets             winxptheme\n",
      "brain_numpy_core_umath keyring             select              wrapt\n",
      "brain_numpy_ndarray keyrings            selectors           wsgiref\n",
      "brain_numpy_random_mtrand keyword             send2trash          xdrlib\n",
      "brain_numpy_utils   kiwisolver          serverfiles         xgboost\n",
      "brain_pkg_resources lazy_object_proxy   servicemanager      xlrd\n",
      "brain_pytest        lib2to3             setuptools          xlsxwriter\n",
      "brain_qt            libarchive          shapely             xlwings\n",
      "brain_random        libfuturize         shelve              xlwt\n",
      "brain_re            libpasteurize       shlex               xml\n",
      "brain_six           lief                shutil              xmlrpc\n",
      "brain_ssl           linecache           signal              xmltodict\n",
      "brain_subprocess    llvmlite            simplegeneric       xxsubtype\n",
      "brain_threading     locale              simplejson          yaml\n",
      "brain_typing        locket              singledispatch      zict\n",
      "brain_uuid          lockfile            singledispatch_helpers zipapp\n",
      "brotli              logging             sip                 zipfile\n",
      "bs4                 lxml                sipconfig           zipimport\n",
      "builtins            lzma                sipdistutils        zipp\n",
      "bz2                 macpath             site                zlib\n",
      "cProfile            mailbox             six                 zmq\n",
      "cachecontrol        mailcap             skimage             ~-learn\n",
      "calendar            markdown            sklearn             ~andas\n",
      "certifi             markupsafe          skopt               ~cipy\n",
      "cffi                marshal             slugify             ~klearn\n",
      "\n",
      "Enter any module name to get more help.  Or, type \"modules spam\" to search\n",
      "for modules whose name or summary contain the string \"spam\".\n",
      "\n"
     ]
    }
   ],
   "source": [
    "help(\"modules\")\n"
   ]
  },
  {
   "cell_type": "code",
   "execution_count": null,
   "metadata": {},
   "outputs": [],
   "source": []
  }
 ],
 "metadata": {
  "kernelspec": {
   "display_name": "Python 3",
   "language": "python",
   "name": "python3"
  },
  "language_info": {
   "codemirror_mode": {
    "name": "ipython",
    "version": 3
   },
   "file_extension": ".py",
   "mimetype": "text/x-python",
   "name": "python",
   "nbconvert_exporter": "python",
   "pygments_lexer": "ipython3",
   "version": "3.7.4"
  }
 },
 "nbformat": 4,
 "nbformat_minor": 4
}
