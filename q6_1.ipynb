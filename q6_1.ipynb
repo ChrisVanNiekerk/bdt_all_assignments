{
 "cells": [
  {
   "cell_type": "code",
   "execution_count": 13,
   "metadata": {},
   "outputs": [
    {
     "name": "stdout",
     "output_type": "stream",
     "text": [
      "{'the': ['D1', 'D2'], 'cat': ['D1'], 'sat': ['D1', 'D2'], 'on': ['D1', 'D2'], 'mat': ['D1'], 'dog': ['D2'], 'log': ['D2']}\n"
     ]
    },
    {
     "name": "stderr",
     "output_type": "stream",
     "text": [
      "[nltk_data] Downloading package stopwords to\n",
      "[nltk_data]     C:\\Users\\MSI\\AppData\\Roaming\\nltk_data...\n",
      "[nltk_data]   Package stopwords is already up-to-date!\n"
     ]
    }
   ],
   "source": [
    "import urllib\n",
    "import re\n",
    "import string\n",
    "import nltk\n",
    "from nltk.tokenize import word_tokenize\n",
    "nltk.download('stopwords')\n",
    "from nltk.corpus import stopwords\n",
    "\n"
   ]
  },
  {
   "cell_type": "code",
   "execution_count": null,
   "metadata": {},
   "outputs": [],
   "source": [
    "def mapping(data):\n",
    "    \n",
    "    map_list=[]\n",
    "    \n",
    "    for label in data:\n",
    "\n",
    "        if len(data[label]) == 1:\n",
    "\n",
    "            for word in data[label][0].split():\n",
    "\n",
    "                map_list.append((word,label))\n",
    "                \n",
    "        elif len(data[label]) > 1:\n",
    "            \n",
    "            for word in data[label]:\n",
    "                \n",
    "                map_list.append((word,label))            \n",
    "            \n",
    "    return map_list\n",
    "\n",
    "def reduce(map_list):\n",
    "    \n",
    "    reduce_dict = {}\n",
    "    for pair in map_list:\n",
    "\n",
    "        if pair[0] not in reduce_dict.keys():\n",
    "\n",
    "            reduce_dict[pair[0]] = [pair[1]]\n",
    "\n",
    "        if pair[1] in reduce_dict[pair[0]]: \n",
    "\n",
    "            continue\n",
    "\n",
    "        else: \n",
    "            reduce_dict[pair[0]].append(pair[1])\n",
    "            \n",
    "    return reduce_dict"
   ]
  },
  {
   "cell_type": "code",
   "execution_count": 2,
   "metadata": {},
   "outputs": [
    {
     "data": {
      "text/plain": [
       "[('the', 'D1'),\n",
       " ('cat', 'D1'),\n",
       " ('sat', 'D1'),\n",
       " ('on', 'D1'),\n",
       " ('the', 'D1'),\n",
       " ('mat', 'D1'),\n",
       " ('the', 'D2'),\n",
       " ('dog', 'D2'),\n",
       " ('sat', 'D2'),\n",
       " ('on', 'D2'),\n",
       " ('the', 'D2'),\n",
       " ('log', 'D2')]"
      ]
     },
     "execution_count": 2,
     "metadata": {},
     "output_type": "execute_result"
    }
   ],
   "source": [
    "data = {'D1': ['the cat sat on the mat'],\n",
    "       'D2': ['the dog sat on the log']}\n",
    "\n",
    "map_list = mapping(data)\n",
    "reduce_result = reduce(map_list)\n",
    "map_list"
   ]
  },
  {
   "cell_type": "code",
   "execution_count": 3,
   "metadata": {},
   "outputs": [
    {
     "data": {
      "text/plain": [
       "{'the': ['D1', 'D2'],\n",
       " 'cat': ['D1'],\n",
       " 'sat': ['D1', 'D2'],\n",
       " 'on': ['D1', 'D2'],\n",
       " 'mat': ['D1'],\n",
       " 'dog': ['D2'],\n",
       " 'log': ['D2']}"
      ]
     },
     "execution_count": 3,
     "metadata": {},
     "output_type": "execute_result"
    }
   ],
   "source": [
    "reduce_result"
   ]
  },
  {
   "cell_type": "code",
   "execution_count": null,
   "metadata": {},
   "outputs": [],
   "source": []
  }
 ],
 "metadata": {
  "kernelspec": {
   "display_name": "Python 3",
   "language": "python",
   "name": "python3"
  },
  "language_info": {
   "codemirror_mode": {
    "name": "ipython",
    "version": 3
   },
   "file_extension": ".py",
   "mimetype": "text/x-python",
   "name": "python",
   "nbconvert_exporter": "python",
   "pygments_lexer": "ipython3",
   "version": "3.7.4"
  }
 },
 "nbformat": 4,
 "nbformat_minor": 4
}
